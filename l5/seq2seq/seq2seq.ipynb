{
 "cells": [
  {
   "cell_type": "markdown",
   "metadata": {},
   "source": [
    "#### Dataset preparation"
   ]
  },
  {
   "cell_type": "markdown",
   "metadata": {},
   "source": [
    "##### Data loading"
   ]
  },
  {
   "cell_type": "code",
   "execution_count": 2,
   "metadata": {},
   "outputs": [],
   "source": [
    "import json, gzip\n",
    "\n",
    "def read_jsonl_gz(path):\n",
    "    with gzip.open(path) as f:\n",
    "        for l in f:\n",
    "            yield json.loads(l)\n",
    "\n",
    "val_data = list(read_jsonl_gz('D:/code/nlp_projects/l5/dataset/val.jsonl.gz'))\n",
    "test_data = list(read_jsonl_gz('D:/code/nlp_projects/l5/dataset/test.jsonl.gz'))\n",
    "train_data = list(read_jsonl_gz('D:/code/nlp_projects/l5/dataset/train.jsonl.gz'))"
   ]
  },
  {
   "cell_type": "markdown",
   "metadata": {},
   "source": [
    "##### Data transform"
   ]
  },
  {
   "cell_type": "code",
   "execution_count": 6,
   "metadata": {},
   "outputs": [
    {
     "name": "stdout",
     "output_type": "stream",
     "text": [
      "                                                text  \\\n",
      "0  Rodrigo Duterte, the new president of the Phil...   \n",
      "1  Rodrigo Duterte, the new president of the Phil...   \n",
      "2  Is the media serving justice to alleged victim...   \n",
      "3  Jaypee Bertes was bruised and battered, his ar...   \n",
      "4  CAGAYAN DE ORO CITY (MindaNews/24 June) — Memb...   \n",
      "\n",
      "                                             summary  \n",
      "0  The death toll in Rodrigo Duterte's war on dru...  \n",
      "1  The death toll in Rodrigo Duterte's war on dru...  \n",
      "2  The death toll in Rodrigo Duterte's war on dru...  \n",
      "3  The death toll in Rodrigo Duterte's war on dru...  \n",
      "4  The death toll in Rodrigo Duterte's war on dru...  \n"
     ]
    },
    {
     "name": "stderr",
     "output_type": "stream",
     "text": [
      "<ipython-input-6-13c49ecb03fc>:18: FutureWarning: The frame.append method is deprecated and will be removed from pandas in a future version. Use pandas.concat instead.\n",
      "  train_df = transform_dataset(train_data).append(transform_dataset(test_data), ignore_index=True)\n"
     ]
    }
   ],
   "source": [
    "import pandas as pd\n",
    "\n",
    "def transform_row(ch):\n",
    "    summ = ch['summary']\n",
    "    articles = []\n",
    "    for a in ch['articles']:\n",
    "        articles.append({'text':a['text'], 'summary':summ})\n",
    "    return articles\n",
    "\n",
    "def transform_dataset(data):\n",
    "    articles = []\n",
    "    for r in data:\n",
    "        articles.extend(transform_row(r))\n",
    "    return pd.DataFrame(articles)\n",
    "        \n",
    "        \n",
    "val_df = transform_dataset(val_data)\n",
    "train_df = transform_dataset(train_data).append(transform_dataset(test_data), ignore_index=True)\n",
    "print(train_df.head())"
   ]
  },
  {
   "cell_type": "markdown",
   "metadata": {},
   "source": [
    "##### Data cleaning"
   ]
  },
  {
   "cell_type": "code",
   "execution_count": 7,
   "metadata": {},
   "outputs": [],
   "source": [
    "import re\n",
    "\n",
    "#Removes non-alphabetic characters:\n",
    "def text_strip(column):\n",
    "    for row in column:\n",
    "        \n",
    "        row=re.sub(\"(\\\\t)\", ' ', str(row)).lower() #delete escape charecters\n",
    "        row=re.sub(\"(\\\\r)\", ' ', str(row)).lower() \n",
    "        row=re.sub(\"(\\\\n)\", ' ', str(row)).lower()\n",
    "        \n",
    "        row=re.sub(\"(__+)\", ' ', str(row)).lower()   #delete _ if more than one time repeatedly\n",
    "        row=re.sub(\"(--+)\", ' ', str(row)).lower()   #delete - if more than one time repeatedly\n",
    "        row=re.sub(\"(~~+)\", ' ', str(row)).lower()   #delete ~ if more than one time repeatedly\n",
    "        row=re.sub(\"(\\+\\++)\", ' ', str(row)).lower()   #delete + if more than one time repeatedly\n",
    "        row=re.sub(\"(\\.\\.+)\", ' ', str(row)).lower()   #delete . if more than one time repeatedly\n",
    "        \n",
    "        row=re.sub(r\"[<>()|&©ø\\[\\]\\'\\\",;?~*!]\", ' ', str(row)).lower() #delete <>()|&©ø\"',;?~*!\n",
    "        \n",
    "        row=re.sub(\"(mailto:)\", ' ', str(row)).lower() #delete mailto:\n",
    "        row=re.sub(r\"(\\\\x9\\d)\", ' ', str(row)).lower() #delete \\x9* in text\n",
    "        row=re.sub(\"([iI][nN][cC]\\d+)\", 'INC_NUM', str(row)).lower() #replace INC nums to INC_NUM\n",
    "        row=re.sub(\"([cC][mM]\\d+)|([cC][hH][gG]\\d+)\", 'CM_NUM', str(row)).lower() #replace CM# and CHG# to CM_NUM\n",
    "        \n",
    "        \n",
    "        row=re.sub(\"(\\.\\s+)\", ' ', str(row)).lower() #delete full stop at end of words(not between)\n",
    "        row=re.sub(\"(\\-\\s+)\", ' ', str(row)).lower() #delete - at end of words(not between)\n",
    "        row=re.sub(\"(\\:\\s+)\", ' ', str(row)).lower() #delete : at end of words(not between)\n",
    "        \n",
    "        row=re.sub(\"(\\s+.\\s+)\", ' ', str(row)).lower() #delete any single charecters hanging between 2 spaces\n",
    "        \n",
    "        row = re.sub(\"(\\s+)\",' ',str(row)).lower() #delete multiple spaces\n",
    "        \n",
    "        #Should always be last\n",
    "        row=re.sub(\"(\\s+.\\s+)\", ' ', str(row)).lower() #delete any single charecters hanging between 2 spaces\n",
    "\n",
    "        yield row"
   ]
  },
  {
   "cell_type": "code",
   "execution_count": 8,
   "metadata": {},
   "outputs": [],
   "source": [
    "clean_train_text = text_strip(train_df['text'])\n",
    "clean_train_summ = text_strip(train_df['summary'])\n",
    "\n",
    "clean_val_text = text_strip(val_df['text'])\n",
    "clean_val_summ = text_strip(val_df['summary'])"
   ]
  },
  {
   "cell_type": "code",
   "execution_count": 15,
   "metadata": {},
   "outputs": [
    {
     "name": "stderr",
     "output_type": "stream",
     "text": [
      "561867it [3:53:38, 40.08it/s] \n",
      "571868it [20:06, 474.15it/s]\n",
      "77707it [33:04, 39.17it/s] \n",
      "77707it [03:01, 427.23it/s]\n"
     ]
    }
   ],
   "source": [
    "import spacy\n",
    "from tqdm import tqdm\n",
    "nlp = spacy.load('en_core_web_sm', disable=['ner', 'parser']) \n",
    "\n",
    "\n",
    "train_text = [str(doc) for doc in tqdm(nlp.pipe(clean_train_text, batch_size=50))]\n",
    "train_summary = ['_START_ '+ str(doc) + ' _END_' for doc in tqdm(nlp.pipe(clean_train_summ, batch_size=50))]\n",
    "\n",
    "val_text = [str(doc) for doc in tqdm(nlp.pipe(clean_val_text, batch_size=50))]\n",
    "val_summary = ['_START_ '+ str(doc) + ' _END_' for doc in tqdm(nlp.pipe(clean_val_summ, batch_size=50))]"
   ]
  },
  {
   "cell_type": "code",
   "execution_count": 1,
   "metadata": {},
   "outputs": [
    {
     "ename": "NameError",
     "evalue": "name 'train_text' is not defined",
     "output_type": "error",
     "traceback": [
      "\u001b[1;31m---------------------------------------------------------------------------\u001b[0m",
      "\u001b[1;31mNameError\u001b[0m                                 Traceback (most recent call last)",
      "\u001b[1;32m<ipython-input-1-12297d8268bb>\u001b[0m in \u001b[0;36m<module>\u001b[1;34m\u001b[0m\n\u001b[1;32m----> 1\u001b[1;33m \u001b[0mprint\u001b[0m\u001b[1;33m(\u001b[0m\u001b[0mtrain_text\u001b[0m\u001b[1;33m)\u001b[0m\u001b[1;33m\u001b[0m\u001b[1;33m\u001b[0m\u001b[0m\n\u001b[0m",
      "\u001b[1;31mNameError\u001b[0m: name 'train_text' is not defined"
     ]
    }
   ],
   "source": [
    "print(train_text)"
   ]
  },
  {
   "cell_type": "code",
   "execution_count": null,
   "metadata": {},
   "outputs": [],
   "source": []
  }
 ],
 "metadata": {
  "kernelspec": {
   "display_name": "Python 3.9.5 64-bit",
   "language": "python",
   "name": "python3"
  },
  "language_info": {
   "codemirror_mode": {
    "name": "ipython",
    "version": 3
   },
   "file_extension": ".py",
   "mimetype": "text/x-python",
   "name": "python",
   "nbconvert_exporter": "python",
   "pygments_lexer": "ipython3",
   "version": "3.9.5"
  },
  "orig_nbformat": 4,
  "vscode": {
   "interpreter": {
    "hash": "aa49793cf55b4e342d8a082111db00951e088a1082acb17060bd320fceb2db95"
   }
  }
 },
 "nbformat": 4,
 "nbformat_minor": 2
}
